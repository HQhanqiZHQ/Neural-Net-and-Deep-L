{
  "cells": [
    {
      "cell_type": "code",
      "execution_count": null,
      "metadata": {
        "id": "p126BTGtzmCa"
      },
      "outputs": [],
      "source": [
        "import numpy as np\n",
        "import numpy.random as npr\n",
        "import math\n",
        "from scipy import special\n",
        "import torch\n",
        "from tqdm import tqdm_notebook as tqdm\n",
        "\n",
        "from scipy import linalg\n",
        "from matplotlib import pyplot as plt\n"
      ]
    },
    {
      "cell_type": "code",
      "execution_count": null,
      "metadata": {
        "id": "buZzB1dMzmCh"
      },
      "outputs": [],
      "source": [
        "def target_fun(x):\n",
        "    return np.sin(x*10)\n",
        "\n",
        "def gen_data(n,d, domain):\n",
        "    X = np.random.uniform(domain[0], domain[1], size = n)\n",
        "    t = target_fun(X) + np.random.normal(size=X.shape)*0.1\n",
        "    return X, t\n",
        "\n",
        "def poly_expand(X, d=20, poly_type = 'legendre'):\n",
        "  if poly_type == 'legendre':\n",
        "    return np.polynomial.legendre.legvander(X, d)\n",
        "  else:\n",
        "    return np.polynomial.chebyshev.chebvander(X, d)\n",
        "\n",
        "def plot_prediction(X, W, d, domain, plot=True):\n",
        "  X_expand = poly_expand(X, d=d, poly_type = poly_type)\n",
        "  p_train = X_expand.dot(W)\n",
        "  loss = (((t - p_train)**2)*0.5).mean()\n",
        "\n",
        "  X_val_raw = np.linspace(domain[0], domain[1], 1000)\n",
        "  X_val_expand = poly_expand(X_val_raw, d=d, poly_type = poly_type)\n",
        "  p_val = X_val_expand.dot(W)\n",
        "  t_val = target_fun(X_val_raw)\n",
        "  loss_val = (((t_val - p_val)**2)*0.5).mean()\n",
        "  \n",
        "  if plot:\n",
        "    plt.plot(X_val_raw, p_val, label='deg {}'.format(d))\n",
        "    plt.plot(X, t, 'o')\n",
        "    plt.plot(X, p_train, '*')\n",
        "    plt.ylim(-2, 2)\n",
        "    plt.xlim(domain[0], domain[1])\n",
        "  return loss_val\n",
        "\n",
        "def plot_target_func():\n",
        "  x = np.linspace(0, 1, 1000)\n",
        "  plt.plot(x, target_fun(x), '--', label=\"target func\")\n",
        "\n",
        "def plot_val_loss(poly_degrees, losses):\n",
        "  plt.figure()\n",
        "  plt.plot(poly_degrees, losses)\n",
        "  plt.semilogy()\n",
        "  plt.semilogx()\n",
        "  plt.ylim(0., 100)\n",
        "  plt.ylabel('test loss')\n",
        "  plt.xlabel('poly degrees')\n"
      ]
    },
    {
      "cell_type": "code",
      "execution_count": null,
      "metadata": {
        "id": "xK2GJsstfL3K"
      },
      "outputs": [],
      "source": [
        "# to be implemented; fill in the derived solution for the underparameterized (d<n) and overparameterized (d>n) problem\n",
        "\n",
        "def fit_poly(X, d,t):\n",
        "  X_expand = poly_expand(X, d=d, poly_type = poly_type)\n",
        "  n = X.shape[0]\n",
        "  if d > n:\n",
        "    W = X_expand.T @ np.linalg.inv(X_expand @ X_expand.T) @ t\n",
        "  else:\n",
        "    W = np.linalg.inv(X_expand.T @ X_expand) @ X_expand.T @ t\n",
        "  return W"
      ]
    },
    {
      "cell_type": "code",
      "execution_count": null,
      "metadata": {
        "colab": {
          "base_uri": "https://localhost:8080/",
          "height": 286
        },
        "id": "Zc3Ll1J5fC92",
        "outputId": "829f0ecb-10ec-4b24-e74a-d8f523ffa61d"
      },
      "outputs": [
        {
          "data": {
            "text/plain": [
              "(0.0, 1.0)"
            ]
          },
          "execution_count": 7,
          "metadata": {
            "tags": []
          },
          "output_type": "execute_result"
        },
        {
          "data": {
            "image/png": "[encoded data removed]",
            "text/plain": [
              "<Figure size 432x288 with 1 Axes>"
            ]
          },
          "metadata": {
            "needs_background": "light",
            "tags": []
          },
          "output_type": "display_data"
        }
      ],
      "source": [
        "domain = [0., 1.]\n",
        "n = 14\n",
        "np.random.seed(123)\n",
        "X, t = gen_data(n, 1, domain)\n",
        "\n",
        "plt.plot(X, t, 'o')\n",
        "plot_target_func()\n",
        "plt.ylim(-2, 2)\n",
        "plt.xlim(domain[0], domain[1])"
      ]
    },
    {
      "cell_type": "code",
      "execution_count": null,
      "metadata": {
        "id": "wH2w0ftCfJ4y"
      },
      "outputs": [],
      "source": [
        "poly_type = 'chebyshev' # try legendre or chebyshev\n",
        "loss_val_list = []\n",
        "\n",
        "poly_degrees = [2, 3, 4, 5, 7, 10, 15, 20,30,50,70,100,150,200] \n",
        "plot_poly_degress = [4, 7, 10, 70, 150] ## only plot these polynomials\n",
        "##  \n",
        "plot_target_func()\n",
        "\n",
        "for d in poly_degrees:\n",
        "  W = fit_poly(X, d,t)\n",
        "  plot_flag = True if d in plot_poly_degress else False\n",
        "  loss_val = plot_prediction(X, W, d, domain, plot_flag)\n",
        "  loss_val_list.append(loss_val)\n",
        "plt.legend()\n",
        "\n",
        "plot_val_loss(poly_degrees, loss_val_list)"
      ]
    },
    {
      "cell_type": "code",
      "execution_count": null,
      "metadata": {
        "id": "c3ui8gNCfXCS"
      },
      "outputs": [],
      "source": []
    }
  ],
  "metadata": {
    "accelerator": "GPU",
    "colab": {
      "name": "LS_polynomial_regression.ipynb",
      "provenance": []
    },
    "kernelspec": {
      "display_name": "Python 3",
      "language": "python",
      "name": "python3"
    },
    "language_info": {
      "codemirror_mode": {
        "name": "ipython",
        "version": 3
      },
      "file_extension": ".py",
      "mimetype": "text/x-python",
      "name": "python",
      "nbconvert_exporter": "python",
      "pygments_lexer": "ipython3"
    },
    "vscode": {
      "interpreter": {
        "hash": "31f2aee4e71d21fbe5cf8b01ff0e069b9275f58929596ceb00d14d90e3e16cd6"
      }
    }
  },
  "nbformat": 4,
  "nbformat_minor": 0
}
